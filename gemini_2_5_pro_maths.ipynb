{
  "cells": [
    {
      "cell_type": "code",
      "execution_count": 1,
      "metadata": {
        "id": "sqi5B7V_Rjim"
      },
      "outputs": [],
      "source": [
        "# Copyright 2025 Google LLC\n",
        "#\n",
        "# Licensed under the Apache License, Version 2.0 (the \"License\");\n",
        "# you may not use this file except in compliance with the License.\n",
        "# You may obtain a copy of the License at\n",
        "#\n",
        "#     https://www.apache.org/licenses/LICENSE-2.0\n",
        "#\n",
        "# Unless required by applicable law or agreed to in writing, software\n",
        "# distributed under the License is distributed on an \"AS IS\" BASIS,\n",
        "# WITHOUT WARRANTIES OR CONDITIONS OF ANY KIND, either express or implied.\n",
        "# See the License for the specific language governing permissions and\n",
        "# limitations under the License."
      ]
    },
    {
      "cell_type": "markdown",
      "metadata": {
        "id": "VyPmicX9RlZX"
      },
      "source": [
        "# Let Gemini 2.5 Do the Math Magic!\n",
        "\n"
      ]
    },
    {
      "cell_type": "markdown",
      "metadata": {
        "id": "8MqT58L6Rm_q"
      },
      "source": [
        "| Authors |\n",
        "| --- |\n",
        "| [Laxmi Harikumar](https://github.com/laxmi-genai)"
      ]
    },
    {
      "cell_type": "markdown",
      "metadata": {
        "id": "nVxnv1D5RoZw"
      },
      "source": [
        "## Overview\n",
        "\n",
        "\n",
        "\n",
        "[Gemini 2.5 Pro Experimental](https://cloud.google.com/vertex-ai/generative-ai/docs/thinking) is Google's most advanced model for complex tasks. It tops the LMArena leaderboard — which measures human preferences — by a significant margin, indicating a highly capable model equipped with high-quality style. 2.5 Pro also shows strong reasoning and code capabilities, leading on common coding, math and science benchmarks.\n",
        "\n",
        "![image.png](data:image/png;base64,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)"
      ]
    },
    {
      "cell_type": "markdown",
      "metadata": {
        "id": "WfFPCBL4Hq8x"
      },
      "source": [
        "### Objectives\n",
        "\n",
        "In this tutorial, you will learn how to use the Gemini API and the Google Gen AI SDK for Python with the Gemini 2.5 Pro model.\n",
        "\n",
        "This notebook provides an example of the model solving a mathematical puzzle!"
      ]
    },
    {
      "cell_type": "markdown",
      "metadata": {
        "id": "gPiTOAHURvTM"
      },
      "source": [
        "## Getting Started"
      ]
    },
    {
      "cell_type": "markdown",
      "metadata": {
        "id": "CHRZUpfWSEpp"
      },
      "source": [
        "### Install Google Gen AI SDK for Python\n"
      ]
    },
    {
      "cell_type": "code",
      "execution_count": 2,
      "metadata": {
        "id": "sG3_LKsWSD3A"
      },
      "outputs": [],
      "source": [
        "%pip install --upgrade --quiet google-genai"
      ]
    },
    {
      "cell_type": "markdown",
      "metadata": {
        "id": "HlMVjiAWSMNX"
      },
      "source": [
        "### Authenticate your notebook environment (Colab only)\n",
        "\n",
        "If you are running this notebook on Google Colab, run the cell below to authenticate your environment."
      ]
    },
    {
      "cell_type": "code",
      "execution_count": 4,
      "metadata": {
        "id": "12fnq4V0SNV3"
      },
      "outputs": [],
      "source": [
        "import sys\n",
        "\n",
        "if \"google.colab\" in sys.modules:\n",
        "    from google.colab import auth\n",
        "\n",
        "    auth.authenticate_user()"
      ]
    },
    {
      "cell_type": "markdown",
      "metadata": {
        "id": "Ve4YBlDqzyj9"
      },
      "source": [
        "### Connect to a generative AI API service\n",
        "\n",
        "Google Gen AI APIs and models including Gemini are available in the following two API services:\n",
        "\n",
        "- **[Gemini Developer API](https://ai.google.dev/gemini-api/docs)**: Experiment, prototype, and deploy small projects.\n",
        "- **[Vertex AI](https://cloud.google.com/vertex-ai/generative-ai/docs/overview)**: Build enterprise-ready projects on Google Cloud.\n",
        "\n",
        "The Google Gen AI SDK provides a unified interface to these two API services."
      ]
    },
    {
      "cell_type": "markdown",
      "metadata": {
        "id": "EdvJRUWRNGHE"
      },
      "source": [
        "### Import libraries\n"
      ]
    },
    {
      "cell_type": "code",
      "execution_count": 16,
      "metadata": {
        "id": "qgdSpVmDbdQ9"
      },
      "outputs": [],
      "source": [
        "from IPython.display import HTML, Image, Markdown, display\n",
        "from google import genai\n",
        "from google.genai.types import GenerateContentConfig, ThinkingConfig, SafetySetting, Part"
      ]
    },
    {
      "cell_type": "markdown",
      "metadata": {
        "id": "be18ac9c5ec8"
      },
      "source": [
        "### Set up Google Cloud Project\n",
        "\n",
        " [Enable the Vertex AI API](https://console.cloud.google.com/flows/enableapi?apiid=aiplatform.googleapis.com) in your Google Cloud project."
      ]
    },
    {
      "cell_type": "code",
      "execution_count": 6,
      "metadata": {
        "id": "72f74f7b9786"
      },
      "outputs": [],
      "source": [
        "import os\n",
        "\n",
        "PROJECT_ID = \"[your-project-id]\"  # @param {type: \"string\", placeholder: \"[your-project-id]\", isTemplate: true}\n",
        "if not PROJECT_ID or PROJECT_ID == \"[your-project-id]\":\n",
        "    PROJECT_ID = str(os.environ.get(\"GOOGLE_CLOUD_PROJECT\"))\n",
        "\n",
        "LOCATION = os.environ.get(\"GOOGLE_CLOUD_REGION\", \"us-central1\")\n",
        "\n",
        "client = genai.Client(vertexai=True, project=PROJECT_ID, location=LOCATION)"
      ]
    },
    {
      "cell_type": "markdown",
      "metadata": {
        "id": "n4yRkFg6BBu4"
      },
      "source": [
        "## Use the Gemini 2.5 Pro model"
      ]
    },
    {
      "cell_type": "markdown",
      "metadata": {
        "id": "eXHJi5B6P5vd"
      },
      "source": [
        "### Load the Gemini 2.5 Pro model\n",
        "\n",
        "Learn more about all [Gemini models on Vertex AI](https://cloud.google.com/vertex-ai/generative-ai/docs/learn/models#gemini-models)."
      ]
    },
    {
      "cell_type": "code",
      "execution_count": 7,
      "metadata": {
        "id": "-coEslfWPrxo"
      },
      "outputs": [],
      "source": [
        "MODEL_ID = \"gemini-2.5-pro-exp-03-25\"  # @param {type: \"string\"}"
      ]
    },
    {
      "cell_type": "markdown",
      "metadata": {
        "id": "hIJVEr0RQY8S"
      },
      "source": [
        "## Configure model parameters\n",
        "\n",
        "You can include parameter values in each call that you send to a model to control how the model generates a response. The model can generate different results for different parameter values. You can experiment with different model parameters to see how the results change.\n",
        "\n",
        "- Learn more about [experimenting with parameter values](https://cloud.google.com/vertex-ai/generative-ai/docs/learn/prompts/adjust-parameter-values).\n",
        "\n",
        "- See a list of all [Gemini API parameters](https://cloud.google.com/vertex-ai/generative-ai/docs/model-reference/inference#parameters).\n"
      ]
    },
    {
      "cell_type": "code",
      "source": [
        "generate_content_config = GenerateContentConfig(\n",
        "    temperature = 1,\n",
        "    top_p = 1,\n",
        "    seed = 0,\n",
        "    max_output_tokens = 65535,\n",
        "    response_modalities = [\"TEXT\"],\n",
        "    safety_settings = [\n",
        "        SafetySetting(\n",
        "              category=\"HARM_CATEGORY_HATE_SPEECH\",\n",
        "              threshold=\"OFF\"\n",
        "            ),\n",
        "      SafetySetting(\n",
        "              category=\"HARM_CATEGORY_DANGEROUS_CONTENT\",\n",
        "              threshold=\"OFF\"\n",
        "            ),\n",
        "      SafetySetting(\n",
        "              category=\"HARM_CATEGORY_SEXUALLY_EXPLICIT\",\n",
        "              threshold=\"OFF\"\n",
        "            ),\n",
        "      SafetySetting(\n",
        "              category=\"HARM_CATEGORY_HARASSMENT\",\n",
        "              threshold=\"OFF\"\n",
        "            )\n",
        "    ],\n",
        "    thinking_config=ThinkingConfig(\n",
        "        include_thoughts=True\n",
        "    )\n",
        "  )"
      ],
      "metadata": {
        "id": "E67rDgxyn2XH"
      },
      "execution_count": 27,
      "outputs": []
    },
    {
      "cell_type": "markdown",
      "metadata": {
        "id": "ecf22b47bdc3"
      },
      "source": [
        "### **Find the missing number!**:\n"
      ]
    },
    {
      "cell_type": "code",
      "execution_count": 28,
      "metadata": {
        "id": "60260c0ac118",
        "colab": {
          "base_uri": "https://localhost:8080/",
          "height": 218
        },
        "outputId": "cf59f628-5fe1-4f58-a355-bd7ec141c062"
      },
      "outputs": [
        {
          "output_type": "display_data",
          "data": {
            "text/html": [
              "<img src=\"https://storage.cloud.google.com/gemini_puzzles/maths_crossword.png\" width=\"400\"/>"
            ],
            "text/plain": [
              "<IPython.core.display.Image object>"
            ]
          },
          "metadata": {}
        }
      ],
      "source": [
        "image_file_path = \"gemini_puzzles/maths_crossword.png\"\n",
        "image_file_uri = f\"gs://{image_file_path}\"\n",
        "image_file_url = f\"https://storage.cloud.google.com/{image_file_path}\"\n",
        "\n",
        "display(Image(url=image_file_url, width=400))"
      ]
    },
    {
      "cell_type": "code",
      "execution_count": 31,
      "metadata": {
        "id": "c972334f62ff",
        "colab": {
          "base_uri": "https://localhost:8080/",
          "height": 603
        },
        "outputId": "42691e5f-2997-46fa-919c-e6bd8ae4ce0e"
      },
      "outputs": [
        {
          "output_type": "display_data",
          "data": {
            "text/plain": [
              "<IPython.core.display.Markdown object>"
            ],
            "text/markdown": "1.  **Analyze the Structure:** The numbers are arranged in a stair-step pattern forming rows:\n    *   Row 1: 6\n    *   Row 2: 7, 5\n    *   Row 3: 11, 3, ?\n    *   Row 4: 17, 2, 4, 1\n\n2.  **Look for Row Patterns:** Let's calculate the sum of the numbers in each row.\n    *   Sum of Row 1 = 6\n    *   Sum of Row 2 = 7 + 5 = 12\n    *   Sum of Row 3 = 11 + 3 + ? = 14 + ?\n    *   Sum of Row 4 = 17 + 2 + 4 + 1 = 24\n\n3.  **Identify Sequence in Row Sums:** The sums are 6, 12, (14 + ?), 24.\n    *   Let's look at the differences between consecutive sums:\n        *   Difference between Row 2 sum and Row 1 sum = 12 - 6 = 6.\n        *   Difference between Row 4 sum and presumed Row 3 sum = 24 - (14 + ?)\n        *   Difference between presumed Row 3 sum and Row 2 sum = (14 + ?) - 12 = 2 + ?\n\n4.  **Hypothesize an Arithmetic Progression:** If the row sums form an arithmetic progression, the difference between consecutive terms should be constant. The first known difference is 6. Let's assume the common difference is 6.\n    *   Row 1 sum = 6\n    *   Row 2 sum = 6 + 6 = 12 (Matches the calculated sum)\n    *   Row 3 sum = 12 + 6 = 18\n    *   Row 4 sum = 18 + 6 = 24 (Matches the calculated sum)\n\n5.  **Solve for the Missing Number:** According to the arithmetic progression hypothesis, the sum of Row 3 should be 18.\n    *   We calculated the sum of Row 3 as 14 + ?.\n    *   Set the calculated sum equal to the required sum: 14 + ? = 18.\n    *   Solve for ?: ? = 18 - 14 = 4.\n\n6.  **Conclusion:** The pattern suggests that the sums of the numbers in each row form an arithmetic sequence (6, 12, 18, 24) with a common difference of 6. For this pattern to hold, the missing number (?) must be 4.\n\nThe missing number is 4."
          },
          "metadata": {}
        }
      ],
      "source": [
        "response = client.models.generate_content(\n",
        "    model=MODEL_ID,\n",
        "    config=generate_content_config,\n",
        "    contents=[\n",
        "        Part.from_uri(file_uri=image_file_uri, mime_type=\"image/png\"),\n",
        "        \"Hey Gemini! Find the missing number\",\n",
        "    ],\n",
        ")\n",
        "\n",
        "display(Markdown(response.text))"
      ]
    },
    {
      "cell_type": "markdown",
      "metadata": {
        "id": "eQwiONFdVHw5"
      },
      "source": [
        "## What's next\n",
        "\n",
        "- See the [Google Gen AI SDK reference docs](https://googleapis.github.io/python-genai/).\n",
        "- Explore other notebooks in the [Google Cloud Generative AI GitHub repository](https://github.com/GoogleCloudPlatform/generative-ai).\n",
        "- Explore AI models in [Model Garden](https://cloud.google.com/vertex-ai/generative-ai/docs/model-garden/explore-models)."
      ]
    }
  ],
  "metadata": {
    "colab": {
      "collapsed_sections": [
        "hIJVEr0RQY8S",
        "rZV2TY5Pa3Dd",
        "hYKAzG1sH-K1",
        "mSUWWlrrlR-D",
        "h4syyLEClGcn"
      ],
      "name": "gemini_2.5_pro_maths",
      "provenance": []
    },
    "kernelspec": {
      "display_name": "Python 3",
      "name": "python3"
    }
  },
  "nbformat": 4,
  "nbformat_minor": 0
}